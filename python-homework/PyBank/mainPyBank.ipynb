{
 "cells": [
  {
   "cell_type": "code",
   "execution_count": 2,
   "metadata": {},
   "outputs": [],
   "source": [
    "import os"
   ]
  },
  {
   "cell_type": "code",
   "execution_count": 46,
   "metadata": {},
   "outputs": [],
   "source": [
    "from pathlib import Path"
   ]
  },
  {
   "cell_type": "code",
   "execution_count": 47,
   "metadata": {},
   "outputs": [],
   "source": [
    "import csv"
   ]
  },
  {
   "cell_type": "code",
   "execution_count": 58,
   "metadata": {},
   "outputs": [],
   "source": [
    "PyBankcsv = Path(\"Resources/budget_data.csv\")"
   ]
  },
  {
   "cell_type": "code",
   "execution_count": 59,
   "metadata": {},
   "outputs": [
    {
     "name": "stdout",
     "output_type": "stream",
     "text": [
      "Resources/budget_data.csv\n"
     ]
    }
   ],
   "source": [
    "print(PyBankcsv)"
   ]
  },
  {
   "cell_type": "code",
   "execution_count": 51,
   "metadata": {},
   "outputs": [
    {
     "name": "stdout",
     "output_type": "stream",
     "text": [
      "/Users/christydain/Desktop/gwu-virt-fin-pt-04-2021-u-c/02-Homework/02-Python/Instructions/PyBank\n"
     ]
    }
   ],
   "source": [
    "print(Path.cwd())"
   ]
  },
  {
   "cell_type": "code",
   "execution_count": 70,
   "metadata": {},
   "outputs": [
    {
     "name": "stdout",
     "output_type": "stream",
     "text": [
      "Financial Analysis\n",
      "Total Months: 86\n",
      "Total_Profits: $38382578\n",
      "average_change_profits: $7803\n",
      "greatest_increase_in_profits: Feb-2012 ($1926159)\n",
      "greatest_decrease_in_profits: Sep-2013 ($-2196167)\n"
     ]
    }
   ],
   "source": [
    "profit = []\n",
    "monthly_changes = []\n",
    "date = []\n",
    "\n",
    "count = 0\n",
    "total_profit = 0\n",
    "total_change_profits = 0\n",
    "initial_profit = 0\n",
    "Month = []\n",
    "\n",
    "with open(PyBankcsv, newline=\"\") as csvfile:\n",
    "    csvreader = csv.reader(csvfile, delimiter=\",\")\n",
    "    csv_header = next(csvreader)\n",
    "    \n",
    "    for row in csvreader:    \n",
    "      count = count + 1 \n",
    "\n",
    "      date.append(row[0])\n",
    "\n",
    "      profit.append(row[1])\n",
    "      total_profit = total_profit + int(row[1])\n",
    "\n",
    "      final_profit = int(row[1])\n",
    "      monthly_change_profits = final_profit - initial_profit\n",
    "\n",
    "      monthly_changes.append(monthly_change_profits)\n",
    "\n",
    "      total_change_profits = total_change_profits + monthly_change_profits\n",
    "      initial_profit = final_profit\n",
    "    \n",
    "      average_change_profits = (total_change_profits/count)\n",
    "      \n",
    "      greatest_increase_profits = max(monthly_changes)\n",
    "      greatest_decrease_profits = min(monthly_changes)\n",
    "\n",
    "      increase_date = date[monthly_changes.index(greatest_increase_profits)]\n",
    "      decrease_date = date[monthly_changes.index(greatest_decrease_profits)]\n",
    "      \n",
    "\n",
    "\n",
    "    print(\"Financial Analysis\")\n",
    "    print(\"Total Months: \" + str(count))\n",
    "    print(\"Total_Profits: \" + \"$\" + str(total_profit))\n",
    "    print(\"average_change_profits: \" + \"$\" + str(int(average_change_profits)))\n",
    "    print(\"greatest_increase_in_profits: \" + str(increase_date) + \" ($\" + str(greatest_increase_profits) + \")\")\n",
    "    print(\"greatest_decrease_in_profits: \" + str(decrease_date) + \" ($\" + str(greatest_decrease_profits) + \")\")\n",
    "    \n",
    "    \n"
   ]
  },
  {
   "cell_type": "code",
   "execution_count": null,
   "metadata": {},
   "outputs": [],
   "source": []
  }
 ],
 "metadata": {
  "kernelspec": {
   "display_name": "Python 3",
   "language": "python",
   "name": "python3"
  },
  "language_info": {
   "codemirror_mode": {
    "name": "ipython",
    "version": 3
   },
   "file_extension": ".py",
   "mimetype": "text/x-python",
   "name": "python",
   "nbconvert_exporter": "python",
   "pygments_lexer": "ipython3",
   "version": "3.7.9"
  }
 },
 "nbformat": 4,
 "nbformat_minor": 4
}
